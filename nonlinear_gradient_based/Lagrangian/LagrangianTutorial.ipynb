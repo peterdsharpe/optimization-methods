{
 "cells": [
  {
   "cell_type": "markdown",
   "metadata": {
    "hideCode": false,
    "hidePrompt": false,
    "pycharm": {
     "is_executing": false
    }
   },
   "source": [
    "# Example of Lagrangians for Optimization\n",
    "Peter Sharpe"
   ]
  },
  {
   "cell_type": "markdown",
   "metadata": {},
   "source": [
    "## Problem\n",
    "Here, we study the following problem, taken from MIT 16.888, Assignment 2 (Spring 2020):"
   ]
  },
  {
   "cell_type": "markdown",
   "metadata": {},
   "source": [
    "Consider the simple constrained optimization problem of minimizing the surface area of a cylinder subject to an equality constraint on its volume:\n",
    "\n",
    "$\\text{min}_x f(x_1, x_2) = 2 \\pi x_1 (x_1 + x_2)$\n",
    "\n",
    "$\\text{subject to: } h(x_1, x_2) = \\pi x_1^2x_2 = 0$\n",
    "\n",
    "where $x_1$ is the radius of the cylinder, $x_2$ is the height of the cylinder, and V is the required volume. Formulate the Lagrangian function, derive the optimality conditions, and solve the resulting system of equations to determine the dimensions of the minimum-surface-area cylinder that has a volume of 1 liter (1000 cm^3)."
   ]
  },
  {
   "cell_type": "markdown",
   "metadata": {
    "hideCode": false,
    "hidePrompt": false
   },
   "source": [
    "## Solution via KKT Condition Derivation"
   ]
  },
  {
   "cell_type": "markdown",
   "metadata": {},
   "source": [
    "First, we import and set up libraries:"
   ]
  },
  {
   "cell_type": "code",
   "execution_count": 21,
   "metadata": {},
   "outputs": [],
   "source": [
    "import numpy as np\n",
    "import sympy as sp\n",
    "sp.init_printing()\n",
    "pi = sp.pi"
   ]
  },
  {
   "cell_type": "markdown",
   "metadata": {
    "hideCode": false,
    "hidePrompt": false
   },
   "source": [
    "We first formulate the Lagrangian of this problem and derive the optimality conditions:"
   ]
  },
  {
   "cell_type": "code",
   "execution_count": 22,
   "metadata": {
    "hideCode": false,
    "hidePrompt": false,
    "pycharm": {
     "is_executing": false,
     "name": "#%% \n"
    }
   },
   "outputs": [],
   "source": [
    "x1 = sp.Symbol(\"x_1\", real=True)\n",
    "x2 = sp.Symbol(\"x_2\", real=True)\n",
    "l1 = sp.Symbol(\"lambda_1\", real=True)\n",
    "V = 0.001 # m^3, or 1 liter"
   ]
  },
  {
   "cell_type": "markdown",
   "metadata": {
    "hideCode": false,
    "hidePrompt": false,
    "pycharm": {
     "name": "#%% md\n"
    }
   },
   "source": [
    "We find $f(x_1, x_2)$:"
   ]
  },
  {
   "cell_type": "code",
   "execution_count": 23,
   "metadata": {
    "hideCode": false,
    "hidePrompt": false,
    "pycharm": {
     "is_executing": false,
     "name": "#%%\n"
    }
   },
   "outputs": [
    {
     "data": {
      "image/png": "[encoded data removed]",
      "text/latex": [
       "$\\displaystyle 2 \\pi x_{1} \\left(x_{1} + x_{2}\\right)$"
      ],
      "text/plain": [
       "2⋅π⋅x₁⋅(x₁ + x₂)"
      ]
     },
     "execution_count": 23,
     "metadata": {},
     "output_type": "execute_result"
    }
   ],
   "source": [
    "f = 2 * pi * x1 * (x1 + x2)\n",
    "f"
   ]
  },
  {
   "cell_type": "markdown",
   "metadata": {
    "hideCode": false,
    "hidePrompt": false,
    "pycharm": {
     "name": "#%% md\n"
    }
   },
   "source": [
    "and $h(x_1, x_2)$:"
   ]
  },
  {
   "cell_type": "code",
   "execution_count": 24,
   "metadata": {
    "hideCode": false,
    "hidePrompt": false,
    "pycharm": {
     "is_executing": false,
     "name": "#%%\n"
    }
   },
   "outputs": [
    {
     "data": {
      "image/png": "[encoded data removed]",
      "text/latex": [
       "$\\displaystyle \\pi x_{1}^{2} x_{2} - 0.001$"
      ],
      "text/plain": [
       "    2           \n",
       "π⋅x₁ ⋅x₂ - 0.001"
      ]
     },
     "execution_count": 24,
     "metadata": {},
     "output_type": "execute_result"
    }
   ],
   "source": [
    "h = pi * x1 ** 2 * x2 - V\n",
    "h"
   ]
  },
  {
   "cell_type": "markdown",
   "metadata": {
    "hideCode": false,
    "hidePrompt": false,
    "pycharm": {
     "name": "#%% md\n"
    }
   },
   "source": [
    "Now, we find the Lagrangian as a function of some Lagrange multiplier $\\lambda_1$:\n",
    "\n"
   ]
  },
  {
   "cell_type": "code",
   "execution_count": 25,
   "metadata": {
    "hideCode": false,
    "hidePrompt": false,
    "pycharm": {
     "is_executing": false
    }
   },
   "outputs": [
    {
     "data": {
      "image/png": "[encoded data removed]",
      "text/latex": [
       "$\\displaystyle \\lambda_{1} \\left(\\pi x_{1}^{2} x_{2} - 0.001\\right) + 2 \\pi x_{1} \\left(x_{1} + x_{2}\\right)$"
      ],
      "text/plain": [
       "   ⎛    2           ⎞                   \n",
       "λ₁⋅⎝π⋅x₁ ⋅x₂ - 0.001⎠ + 2⋅π⋅x₁⋅(x₁ + x₂)"
      ]
     },
     "execution_count": 25,
     "metadata": {},
     "output_type": "execute_result"
    }
   ],
   "source": [
    "L = f + l1 * h\n",
    "L"
   ]
  },
  {
   "cell_type": "markdown",
   "metadata": {
    "hideCode": false,
    "hidePrompt": false
   },
   "source": [
    "Recalling the definition of a Lagrangian, we need to find the stationary point $\\vec{x}^*$ of $L(\\vec{x}, \\lambda_1)$ to solve our original constrained problem.\n",
    "\n",
    "Since we have no inequality constraints, we can use a simplified version of the KKT conditions (the Lagrange conditions) as our optimality conditions:\n",
    "\n",
    "We have an optimum $\\vec{x}^*$ if:\n",
    "1. $\\vec{x}^*$ is feasible, meaning $h(\\vec{x}^*) = 0$.\n",
    "2. $\\nabla L(\\vec{x}, \\lambda_1) = 0$\n",
    "\n",
    "Now, we have three equations and three variables, so we can solve this nonlinear system:"
   ]
  },
  {
   "cell_type": "code",
   "execution_count": 26,
   "metadata": {
    "hideCode": false,
    "hidePrompt": false,
    "pycharm": {
     "is_executing": false
    }
   },
   "outputs": [
    {
     "data": {
      "image/png": "[encoded data removed]",
      "text/latex": [
       "$\\displaystyle \\left[ \\pi x_{1}^{2} x_{2} - 0.001, \\  2 \\pi \\lambda_{1} x_{1} x_{2} + 2 \\pi x_{1} + 2 \\pi \\left(x_{1} + x_{2}\\right), \\  \\pi \\lambda_{1} x_{1}^{2} + 2 \\pi x_{1}\\right]$"
      ],
      "text/plain": [
       "⎡    2                                                           2         ⎤\n",
       "⎣π⋅x₁ ⋅x₂ - 0.001, 2⋅π⋅λ₁⋅x₁⋅x₂ + 2⋅π⋅x₁ + 2⋅π⋅(x₁ + x₂), π⋅λ₁⋅x₁  + 2⋅π⋅x₁⎦"
      ]
     },
     "execution_count": 26,
     "metadata": {},
     "output_type": "execute_result"
    }
   ],
   "source": [
    "eqns = [\n",
    "    h,\n",
    "    sp.diff(L, x1),\n",
    "    sp.diff(L, x2)\n",
    "]\n",
    "eqns"
   ]
  },
  {
   "cell_type": "code",
   "execution_count": 27,
   "metadata": {
    "hideCode": false,
    "hidePrompt": false,
    "pycharm": {
     "is_executing": false
    }
   },
   "outputs": [
    {
     "name": "stdout",
     "output_type": "stream",
     "text": [
      "x1_sol = 0.0541926070139289\n",
      "x2_sol = 0.108385214027858\n",
      "l1_sol = -36.9054029728806\n"
     ]
    }
   ],
   "source": [
    "# Exact symbolic\n",
    "from sympy.solvers import solve\n",
    "sol = solve(eqns, [x1, x2, l1])\n",
    "\n",
    "# # Numerical\n",
    "# from sympy.solvers import nsolve\n",
    "# nsolve(eqns, [x1, x2, l1], [0.01, 0.01, 1])\n",
    "\n",
    "x1_sol, x2_sol, l1_sol = sol[0]\n",
    "print(\"x1_sol =\", x1_sol)\n",
    "print(\"x2_sol =\", x2_sol)\n",
    "print(\"l1_sol =\", l1_sol)"
   ]
  },
  {
   "cell_type": "markdown",
   "metadata": {
    "hideCode": false,
    "hidePrompt": false
   },
   "source": [
    "So the 1L cylinder container with minimum surface area has a radius of 5.42 cm and a height of 10.84 cm. And the sensitivity of surface area to volume is -36.91 $m^2 / m^3$. That seems about right!"
   ]
  },
  {
   "cell_type": "markdown",
   "metadata": {},
   "source": [
    "## Solution as a Geometric Program"
   ]
  },
  {
   "cell_type": "markdown",
   "metadata": {
    "hideCode": false,
    "hidePrompt": false
   },
   "source": [
    "We formulate the cylinder optimization problem as a geometric program now. We need to rewrite the program just a bit such that the $h(x_1, x_2)$ formulation is GP-compatible:"
   ]
  },
  {
   "cell_type": "code",
   "execution_count": 28,
   "metadata": {
    "hideCode": false,
    "hidePrompt": false
   },
   "outputs": [
    {
     "name": "stdout",
     "output_type": "stream",
     "text": [
      "x1_sol = 0.03837135935431579\n",
      "x2_sol = 0.07674748102377016\n"
     ]
    }
   ],
   "source": [
    "import cvxpy as cp\n",
    "\n",
    "x1 = cp.Variable(pos=True)\n",
    "x2 = cp.Variable(pos=True)\n",
    "V = 0.355 * 0.001 # m^3\n",
    "\n",
    "f = 2 * np.pi * x1 * (x1 + x2)\n",
    "h = np.pi * x1 ** 2 * x2\n",
    "\n",
    "constraints = [h == V]\n",
    "obj = cp.Minimize(f)\n",
    "\n",
    "prob = cp.Problem(obj, constraints)\n",
    "prob.solve(gp=True)\n",
    "print(\"x1_sol =\", x1.value)\n",
    "print(\"x2_sol =\", x2.value)"
   ]
  },
  {
   "cell_type": "markdown",
   "metadata": {
    "hideCode": false,
    "hidePrompt": false
   },
   "source": [
    "We find that we get the same solution as before. "
   ]
  },
  {
   "cell_type": "markdown",
   "metadata": {
    "hideCode": false,
    "hidePrompt": false
   },
   "source": [
    "## Solution as a General NLP\n",
    "\n",
    "We can also efficiently solve the problem with a general nonlinear method:"
   ]
  },
  {
   "cell_type": "code",
   "execution_count": 29,
   "metadata": {
    "hideCode": false,
    "hidePrompt": false
   },
   "outputs": [
    {
     "name": "stdout",
     "output_type": "stream",
     "text": [
      "This is Ipopt version 3.12.3, running with linear solver mumps.\n",
      "NOTE: Other linear solvers might be more efficient (see Ipopt documentation).\n",
      "\n",
      "Number of nonzeros in equality constraint Jacobian...:        2\n",
      "Number of nonzeros in inequality constraint Jacobian.:        0\n",
      "Number of nonzeros in Lagrangian Hessian.............:        2\n",
      "\n",
      "Total number of variables............................:        2\n",
      "                     variables with only lower bounds:        0\n",
      "                variables with lower and upper bounds:        0\n",
      "                     variables with only upper bounds:        0\n",
      "Total number of equality constraints.................:        1\n",
      "Total number of inequality constraints...............:        0\n",
      "        inequality constraints with only lower bounds:        0\n",
      "   inequality constraints with lower and upper bounds:        0\n",
      "        inequality constraints with only upper bounds:        0\n",
      "\n",
      "iter    objective    inf_pr   inf_du lg(mu)  ||d||  lg(rg) alpha_du alpha_pr  ls\n",
      "   0 1.2566371e+001 3.14e+000 2.51e+000  -1.0 0.00e+000    -  0.00e+000 0.00e+000   0\n",
      "   1 5.0811185e+000 8.70e-001 1.51e+000  -1.0 4.37e-001    -  1.00e+000 1.00e+000f  1\n",
      "   2 2.2115374e+000 2.52e-001 1.30e+000  -1.0 2.20e-001    -  1.00e+000 1.00e+000f  1\n",
      "   3 9.8428475e-001 7.46e-002 1.02e+000  -1.0 2.27e-001    -  1.00e+000 1.00e+000f  1\n",
      "   4 4.3953342e-001 2.20e-002 7.25e-001  -1.0 1.52e-001    -  1.00e+000 1.00e+000f  1\n",
      "   5 1.9846016e-001 6.43e-003 4.92e-001  -1.7 1.00e-001    -  1.00e+000 1.00e+000f  1\n",
      "   6 9.2877793e-002 1.82e-003 3.22e-001  -1.7 6.49e-002    -  1.00e+000 1.00e+000f  1\n",
      "   7 4.8297532e-002 4.60e-004 1.92e-001  -1.7 3.91e-002    -  1.00e+000 1.00e+000f  1\n",
      "   8 3.1834883e-002 8.11e-005 8.42e-002  -2.5 1.91e-002    -  1.00e+000 1.00e+000h  1\n",
      "   9 2.8010510e-002 4.92e-006 1.29e-002  -2.5 5.09e-003    -  1.00e+000 1.00e+000h  1\n",
      "iter    objective    inf_pr   inf_du lg(mu)  ||d||  lg(rg) alpha_du alpha_pr  ls\n",
      "  10 2.7755671e-002 2.24e-008 1.37e-004  -3.8 3.52e-004    -  1.00e+000 1.00e+000h  1\n",
      "  11 2.7754502e-002 4.72e-013 6.17e-009  -5.7 1.60e-006    -  1.00e+000 1.00e+000h  1\n",
      "\n",
      "Number of Iterations....: 11\n",
      "\n",
      "                                   (scaled)                 (unscaled)\n",
      "Objective...............:  2.7754502473999791e-002   2.7754502473999791e-002\n",
      "Dual infeasibility......:  6.1670241136013715e-009   6.1670241136013715e-009\n",
      "Constraint violation....:  4.7160355048231350e-013   4.7160355048231350e-013\n",
      "Complementarity.........:  0.0000000000000000e+000   0.0000000000000000e+000\n",
      "Overall NLP error.......:  6.1670241136013715e-009   6.1670241136013715e-009\n",
      "\n",
      "\n",
      "Number of objective function evaluations             = 12\n",
      "Number of objective gradient evaluations             = 12\n",
      "Number of equality constraint evaluations            = 12\n",
      "Number of inequality constraint evaluations          = 0\n",
      "Number of equality constraint Jacobian evaluations   = 12\n",
      "Number of inequality constraint Jacobian evaluations = 0\n",
      "Number of Lagrangian Hessian evaluations             = 11\n",
      "Total CPU secs in IPOPT (w/o function evaluations)   =      0.007\n",
      "Total CPU secs in NLP function evaluations           =      0.000\n",
      "\n",
      "EXIT: Optimal Solution Found.\n",
      "      solver  :   t_proc      (avg)   t_wall      (avg)    n_eval\n",
      "       nlp_f  |        0 (       0)        0 (       0)        12\n",
      "       nlp_g  |        0 (       0)        0 (       0)        12\n",
      "  nlp_grad_f  |        0 (       0)        0 (       0)        13\n",
      "  nlp_hess_l  |        0 (       0)        0 (       0)        11\n",
      "   nlp_jac_g  |        0 (       0)        0 (       0)        13\n",
      "       total  |   8.00ms (  8.00ms)   7.98ms (  7.98ms)         1\n",
      "x1_sol = 0.03837215249611956\n",
      "x2_sol = 0.07674430499841393\n"
     ]
    }
   ],
   "source": [
    "import casadi as cas\n",
    "opti = cas.Opti()\n",
    "\n",
    "x1 = opti.variable()\n",
    "x2 = opti.variable()\n",
    "opti.set_initial(x1, 1)\n",
    "opti.set_initial(x2, 1)\n",
    "\n",
    "V = 0.355 * 0.001\n",
    "\n",
    "opti.minimize(2*cas.pi*x1*(x1+x2))\n",
    "\n",
    "opti.subject_to(cas.pi*x1**2*x2-V==0)\n",
    "\n",
    "opti.solver('ipopt')\n",
    "sol = opti.solve()\n",
    "print(\"x1_sol =\", sol.value(x1))\n",
    "print(\"x2_sol =\", sol.value(x2))"
   ]
  }
 ],
 "metadata": {
  "hide_code_all_hidden": false,
  "kernelspec": {
   "display_name": "Python 3",
   "language": "python",
   "name": "python3"
  },
  "language_info": {
   "codemirror_mode": {
    "name": "ipython",
    "version": 3
   },
   "file_extension": ".py",
   "mimetype": "text/x-python",
   "name": "python",
   "nbconvert_exporter": "python",
   "pygments_lexer": "ipython3",
   "version": "3.7.4"
  },
  "pycharm": {
   "stem_cell": {
    "cell_type": "raw",
    "metadata": {
     "collapsed": false
    },
    "source": []
   }
  },
  "varInspector": {
   "cols": {
    "lenName": 16,
    "lenType": 16,
    "lenVar": 40
   },
   "kernels_config": {
    "python": {
     "delete_cmd_postfix": "",
     "delete_cmd_prefix": "del ",
     "library": "var_list.py",
     "varRefreshCmd": "print(var_dic_list())"
    },
    "r": {
     "delete_cmd_postfix": ") ",
     "delete_cmd_prefix": "rm(",
     "library": "var_list.r",
     "varRefreshCmd": "cat(var_dic_list()) "
    }
   },
   "types_to_exclude": [
    "module",
    "function",
    "builtin_function_or_method",
    "instance",
    "_Feature"
   ],
   "window_display": false
  }
 },
 "nbformat": 4,
 "nbformat_minor": 4
}
